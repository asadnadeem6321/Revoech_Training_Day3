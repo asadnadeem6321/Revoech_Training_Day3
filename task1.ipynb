{
 "cells": [
  {
   "cell_type": "code",
   "execution_count": 6,
   "id": "c08adae0-5d26-478b-8574-379dee549693",
   "metadata": {},
   "outputs": [
    {
     "name": "stdout",
     "output_type": "stream",
     "text": [
      "Hello, world!\n"
     ]
    }
   ],
   "source": [
    "print(\"Hello, world!\")"
   ]
  },
  {
   "cell_type": "code",
   "execution_count": 11,
   "id": "836f855c-69ec-4119-87d8-859bffe7fd32",
   "metadata": {},
   "outputs": [
    {
     "name": "stdout",
     "output_type": "stream",
     "text": [
      "Count: 0\n",
      "Count: 1\n",
      "Count: 2\n",
      "Count: 3\n",
      "Count: 4\n"
     ]
    }
   ],
   "source": [
    "for i in range(5):\n",
    "    print (f\"Count: {i}\")"
   ]
  },
  {
   "cell_type": "code",
   "execution_count": 12,
   "id": "72118f4d-e264-4493-9c89-97db66745803",
   "metadata": {},
   "outputs": [
    {
     "name": "stdout",
     "output_type": "stream",
     "text": [
      "3.10.12 (main, Feb  4 2025, 14:57:36) [GCC 11.4.0]\n"
     ]
    }
   ],
   "source": [
    "import sys\n",
    "\n",
    "print(sys.version)"
   ]
  },
  {
   "cell_type": "code",
   "execution_count": 16,
   "id": "900e326f-1989-4f50-a44a-d569518e94e8",
   "metadata": {},
   "outputs": [
    {
     "name": "stdin",
     "output_type": "stream",
     "text": [
      "enter first number 23\n",
      "enter second number 3\n"
     ]
    },
    {
     "name": "stdout",
     "output_type": "stream",
     "text": [
      "23 + 3 = 26\n",
      "23 - 3 = 20\n",
      "23 * 3 = 69\n",
      "23 / 3 = 7.666666666666667\n"
     ]
    }
   ],
   "source": [
    "x = int(input(\"enter first number\"))\n",
    "y = int(input(\"enter second number\"))\n",
    "print (f\"{x} + {y} = {x+y}\")\n",
    "print (f\"{x} - {y} = {x-y}\")\n",
    "print (f\"{x} * {y} = {x*y}\")\n",
    "print (f\"{x} / {y} = {x/y}\")"
   ]
  },
  {
   "cell_type": "code",
   "execution_count": 18,
   "id": "62239e3d-a256-4e58-bf95-6d1b97dde752",
   "metadata": {},
   "outputs": [
    {
     "name": "stdout",
     "output_type": "stream",
     "text": [
      "6\n",
      "6.0\n"
     ]
    }
   ],
   "source": [
    "a = int(6)\n",
    "x = str(a)\n",
    "y = float(a)\n",
    "print (x)\n",
    "print (y)"
   ]
  },
  {
   "cell_type": "code",
   "execution_count": 21,
   "id": "a955db83-ebc2-4389-b6bc-98feef261f21",
   "metadata": {},
   "outputs": [],
   "source": [
    "a = 4\n",
    "A = \"Asad\"\n",
    "#A will not overwrite a"
   ]
  },
  {
   "cell_type": "code",
   "execution_count": 27,
   "id": "94a81bf4-76d0-4997-9257-a2ef63c1fe1e",
   "metadata": {},
   "outputs": [
    {
     "name": "stdout",
     "output_type": "stream",
     "text": [
      "60\n"
     ]
    }
   ],
   "source": [
    "b = 60\n",
    "print(b)"
   ]
  },
  {
   "cell_type": "code",
   "execution_count": 28,
   "id": "9b82a32e-3ea5-4a52-9693-f3048bb18395",
   "metadata": {},
   "outputs": [
    {
     "name": "stdout",
     "output_type": "stream",
     "text": [
      "Python is awesome\n"
     ]
    }
   ],
   "source": [
    "x = \"Python\"\n",
    "y = \"is\"\n",
    "z = \"awesome\"\n",
    "print(x, y, z)"
   ]
  },
  {
   "cell_type": "code",
   "execution_count": 29,
   "id": "1773ffe1-aa8a-4b02-895e-75da8fd31c35",
   "metadata": {},
   "outputs": [
    {
     "name": "stdout",
     "output_type": "stream",
     "text": [
      "Python is awesome\n"
     ]
    }
   ],
   "source": [
    "x = \"awesome\"\n",
    "\n",
    "def myfunc():\n",
    "  print(\"Python is \" + x)\n",
    "\n",
    "myfunc()"
   ]
  },
  {
   "cell_type": "code",
   "execution_count": 37,
   "id": "fc88a755-1c0c-4f6a-bae9-a017e88a3a31",
   "metadata": {},
   "outputs": [
    {
     "name": "stdout",
     "output_type": "stream",
     "text": [
      "Python is awesome\n"
     ]
    },
    {
     "ename": "NameError",
     "evalue": "name 'd' is not defined",
     "output_type": "error",
     "traceback": [
      "\u001b[0;31m---------------------------------------------------------------------------\u001b[0m",
      "\u001b[0;31mNameError\u001b[0m                                 Traceback (most recent call last)",
      "Cell \u001b[0;32mIn[37], line 6\u001b[0m\n\u001b[1;32m      3\u001b[0m     \u001b[38;5;28mprint\u001b[39m(\u001b[38;5;124m\"\u001b[39m\u001b[38;5;124mPython is \u001b[39m\u001b[38;5;124m\"\u001b[39m \u001b[38;5;241m+\u001b[39m d)\n\u001b[1;32m      5\u001b[0m myfunc()\n\u001b[0;32m----> 6\u001b[0m \u001b[38;5;28mprint\u001b[39m(\u001b[43md\u001b[49m)\n",
      "\u001b[0;31mNameError\u001b[0m: name 'd' is not defined"
     ]
    }
   ],
   "source": [
    "def myfunc():\n",
    "    d = \"awesome\"\n",
    "    print(\"Python is \" + d)\n",
    "\n",
    "myfunc()\n",
    "print(d)"
   ]
  },
  {
   "cell_type": "code",
   "execution_count": 40,
   "id": "32bd960e-93fb-4938-8e4e-b7372e3409c7",
   "metadata": {},
   "outputs": [
    {
     "name": "stdout",
     "output_type": "stream",
     "text": [
      "Python is local scope\n",
      "Python is global scope\n"
     ]
    }
   ],
   "source": [
    "e = \"global scope\"\n",
    "def myfunc():\n",
    "  e = \"local scope\"\n",
    "  print(\"Python is \" + e)\n",
    "\n",
    "myfunc()\n",
    "\n",
    "print(\"Python is \" + e)"
   ]
  },
  {
   "cell_type": "code",
   "execution_count": 41,
   "id": "d0dbed67-db7c-434a-91c8-a09f4bc92c74",
   "metadata": {},
   "outputs": [
    {
     "name": "stdout",
     "output_type": "stream",
     "text": [
      "True\n"
     ]
    }
   ],
   "source": [
    "fruits = ['apple', 'banana', 'cherry']\n",
    "print('apple' in fruits)\n"
   ]
  },
  {
   "cell_type": "code",
   "execution_count": 44,
   "id": "0e6432b3-bc83-4cf3-8590-d28df040ff27",
   "metadata": {},
   "outputs": [
    {
     "name": "stdout",
     "output_type": "stream",
     "text": [
      "False\n"
     ]
    }
   ],
   "source": [
    "a = [1, 2, 3]\n",
    "b = a\n",
    "print(a is not b) "
   ]
  },
  {
   "cell_type": "code",
   "execution_count": 52,
   "id": "501f2929-5dd8-4afb-aea2-a82f38e83c9b",
   "metadata": {},
   "outputs": [
    {
     "name": "stdin",
     "output_type": "stream",
     "text": [
      "please enter your units:  70\n"
     ]
    },
    {
     "name": "stdout",
     "output_type": "stream",
     "text": [
      "You are using commercial units. \n"
     ]
    }
   ],
   "source": [
    "a = int(input(\"please enter your units: \"))\n",
    "if a >= 10 and a <= 20:\n",
    "    print (f\"Your current bill is: {a*15}\")\n",
    "else:\n",
    "    print (\"You are using commercial units. \")"
   ]
  },
  {
   "cell_type": "code",
   "execution_count": 53,
   "id": "60be6a3e-f31c-413d-947c-c68c1266d39b",
   "metadata": {},
   "outputs": [
    {
     "name": "stdout",
     "output_type": "stream",
     "text": [
      "Count : 1\n",
      "Count : 2\n",
      "Count : 3\n",
      "Count : 4\n",
      "Count : 5\n"
     ]
    }
   ],
   "source": [
    "for i in range(1,6):\n",
    "    print (f\"Count : {i}\")"
   ]
  },
  {
   "cell_type": "code",
   "execution_count": 55,
   "id": "c48880fc-9afa-40ba-900f-606391d2a5da",
   "metadata": {},
   "outputs": [
    {
     "name": "stdout",
     "output_type": "stream",
     "text": [
      "count is 1\n",
      "count is 2\n",
      "count is 3\n"
     ]
    }
   ],
   "source": [
    "count = 1\n",
    "while count <= 3:\n",
    "    print (f\"count is {count}\")\n",
    "    count += 1"
   ]
  },
  {
   "cell_type": "code",
   "execution_count": 57,
   "id": "6741ad33-c66c-4312-9718-0e0a412b9f5b",
   "metadata": {},
   "outputs": [
    {
     "name": "stdout",
     "output_type": "stream",
     "text": [
      "count is 1\n",
      "count is 3\n",
      "count is 5\n",
      "count is 7\n",
      "count is 9\n"
     ]
    }
   ],
   "source": [
    "count = 1\n",
    "while count <= 10:\n",
    "    print (f\"count is {count}\")\n",
    "    count += 2"
   ]
  },
  {
   "cell_type": "code",
   "execution_count": 69,
   "id": "187dfb14-5103-4e7c-88af-184fbb24c7f5",
   "metadata": {},
   "outputs": [
    {
     "ename": "AttributeError",
     "evalue": "'str' object has no attribute 'int'",
     "output_type": "error",
     "traceback": [
      "\u001b[0;31m---------------------------------------------------------------------------\u001b[0m",
      "\u001b[0;31mAttributeError\u001b[0m                            Traceback (most recent call last)",
      "Cell \u001b[0;32mIn[69], line 7\u001b[0m\n\u001b[1;32m      5\u001b[0m         integers\u001b[38;5;241m.\u001b[39mappend(i)\n\u001b[1;32m      6\u001b[0m     \u001b[38;5;28;01melif\u001b[39;00m \u001b[38;5;28misinstance\u001b[39m(i , \u001b[38;5;28mlist\u001b[39m):\n\u001b[0;32m----> 7\u001b[0m         integers\u001b[38;5;241m.\u001b[39mextend([b \u001b[38;5;28;01mfor\u001b[39;00m b \u001b[38;5;129;01min\u001b[39;00m i \u001b[38;5;28;01mif\u001b[39;00m \u001b[38;5;28misinstance\u001b[39m(b\u001b[38;5;241m.\u001b[39mint)])\n\u001b[1;32m      8\u001b[0m \u001b[38;5;28mprint\u001b[39m (integers)\n",
      "Cell \u001b[0;32mIn[69], line 7\u001b[0m, in \u001b[0;36m<listcomp>\u001b[0;34m(.0)\u001b[0m\n\u001b[1;32m      5\u001b[0m         integers\u001b[38;5;241m.\u001b[39mappend(i)\n\u001b[1;32m      6\u001b[0m     \u001b[38;5;28;01melif\u001b[39;00m \u001b[38;5;28misinstance\u001b[39m(i , \u001b[38;5;28mlist\u001b[39m):\n\u001b[0;32m----> 7\u001b[0m         integers\u001b[38;5;241m.\u001b[39mextend([b \u001b[38;5;28;01mfor\u001b[39;00m b \u001b[38;5;129;01min\u001b[39;00m i \u001b[38;5;28;01mif\u001b[39;00m \u001b[38;5;28misinstance\u001b[39m(\u001b[43mb\u001b[49m\u001b[38;5;241;43m.\u001b[39;49m\u001b[43mint\u001b[49m)])\n\u001b[1;32m      8\u001b[0m \u001b[38;5;28mprint\u001b[39m (integers)\n",
      "\u001b[0;31mAttributeError\u001b[0m: 'str' object has no attribute 'int'"
     ]
    }
   ],
   "source": [
    "a = [\"a\" , \"b\" , 1, 2, 3, [ \"c\" , \"d\" , 4, 5, 6]]\n",
    "integers = []\n",
    "for i in a:\n",
    "    if isinstance(i, int):\n",
    "        integers.append(i)\n",
    "    elif isinstance(i , list):\n",
    "        integers.extend([b for b in i if isinstance(b.int)])\n",
    "print (integers)"
   ]
  },
  {
   "cell_type": "code",
   "execution_count": 70,
   "id": "12a71185-f5a0-47be-9483-0a9cf90171be",
   "metadata": {},
   "outputs": [
    {
     "name": "stdout",
     "output_type": "stream",
     "text": [
      "[1, 2, 3, 4, 5, 6]\n"
     ]
    }
   ],
   "source": [
    "a = [\"a\", \"b\", 1, 2, 3, [\"c\", \"d\", 4, 5, 6]]\n",
    "integers = []\n",
    "\n",
    "for i in a:\n",
    "    if isinstance(i, int):\n",
    "        integers.append(i)\n",
    "    elif isinstance(i, list):\n",
    "        integers.extend([b for b in i if isinstance(b, int)])\n",
    "\n",
    "print(integers)"
   ]
  },
  {
   "cell_type": "code",
   "execution_count": null,
   "id": "abc023f2-3f6a-4593-984c-eec834d0dc0f",
   "metadata": {},
   "outputs": [],
   "source": []
  }
 ],
 "metadata": {
  "kernelspec": {
   "display_name": "Python 3 (ipykernel)",
   "language": "python",
   "name": "python3"
  },
  "language_info": {
   "codemirror_mode": {
    "name": "ipython",
    "version": 3
   },
   "file_extension": ".py",
   "mimetype": "text/x-python",
   "name": "python",
   "nbconvert_exporter": "python",
   "pygments_lexer": "ipython3",
   "version": "3.10.12"
  }
 },
 "nbformat": 4,
 "nbformat_minor": 5
}
